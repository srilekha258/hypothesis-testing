{
  "cells": [
    {
      "cell_type": "markdown",
      "metadata": {
        "id": "view-in-github",
        "colab_type": "text"
      },
      "source": [
        "<a href=\"https://colab.research.google.com/github/srilekha258/hypothesis-testing/blob/main/hypothesis_test_1.ipynb\" target=\"_parent\"><img src=\"https://colab.research.google.com/assets/colab-badge.svg\" alt=\"Open In Colab\"/></a>"
      ]
    },
    {
      "cell_type": "code",
      "execution_count": null,
      "metadata": {
        "id": "vAZtQ1n9r2wm"
      },
      "outputs": [],
      "source": [
        "#import the libraries\n",
        "import pandas as pd\n",
        "import scipy\n",
        "import numpy as np\n",
        "from scipy import stats"
      ]
    },
    {
      "cell_type": "markdown",
      "metadata": {
        "id": "vnkYWwvxr2wo"
      },
      "source": [
        "# Super Market example"
      ]
    },
    {
      "cell_type": "code",
      "source": [
        "import numpy as np\n",
        "t=(130-120)/(40/(np.sqrt(80)))\n",
        "t"
      ],
      "metadata": {
        "id": "eYUeiAVkskVB",
        "colab": {
          "base_uri": "https://localhost:8080/"
        },
        "outputId": "43ad1532-6b83-44fc-f00f-ad47e15e8c4c"
      },
      "execution_count": null,
      "outputs": [
        {
          "output_type": "execute_result",
          "data": {
            "text/plain": [
              "2.23606797749979"
            ]
          },
          "metadata": {},
          "execution_count": 1
        }
      ]
    },
    {
      "cell_type": "code",
      "execution_count": null,
      "metadata": {
        "id": "PGgt214pr2wq",
        "colab": {
          "base_uri": "https://localhost:8080/"
        },
        "outputId": "e88b0728-582c-448c-f247-2e5f7980d1fe"
      },
      "outputs": [
        {
          "output_type": "execute_result",
          "data": {
            "text/plain": [
              "1.9904502102301282"
            ]
          },
          "metadata": {},
          "execution_count": 3
        }
      ],
      "source": [
        "from scipy import stats\n",
        "stats.t.ppf(0.975,79)port"
      ]
    },
    {
      "cell_type": "code",
      "source": [
        "stats.t.ppf(0.975,79)"
      ],
      "metadata": {
        "id": "q_FPo3PXtOQh"
      },
      "execution_count": null,
      "outputs": []
    },
    {
      "cell_type": "markdown",
      "metadata": {
        "id": "Xi5AYyCcr2wr"
      },
      "source": [
        "# Call Center example"
      ]
    },
    {
      "cell_type": "code",
      "execution_count": null,
      "metadata": {
        "id": "OGXjI1Fvr2ws",
        "colab": {
          "base_uri": "https://localhost:8080/"
        },
        "outputId": "dd1df2da-4dc5-499e-9727-07448083ed1d"
      },
      "outputs": [
        {
          "output_type": "execute_result",
          "data": {
            "text/plain": [
              "1.4142135623730943"
            ]
          },
          "metadata": {},
          "execution_count": 4
        }
      ],
      "source": [
        "import numpy as np\n",
        "(4.6-4)/(3/np.sqrt(50))"
      ]
    },
    {
      "cell_type": "code",
      "execution_count": null,
      "metadata": {
        "id": "k3jxwKror2wt",
        "colab": {
          "base_uri": "https://localhost:8080/"
        },
        "outputId": "fd3d9569-eac3-4982-e3e5-09b1b99bf931"
      },
      "outputs": [
        {
          "output_type": "execute_result",
          "data": {
            "text/plain": [
              "1.959963984540054"
            ]
          },
          "metadata": {},
          "execution_count": 5
        }
      ],
      "source": [
        "from scipy import stats\n",
        "stats.norm.ppf(0.975)"
      ]
    },
    {
      "cell_type": "code",
      "execution_count": null,
      "metadata": {
        "id": "fMEyKX6Pr2wt"
      },
      "outputs": [],
      "source": []
    },
    {
      "cell_type": "markdown",
      "metadata": {
        "id": "Gp91YHDCr2wu"
      },
      "source": [
        "# One tail test"
      ]
    },
    {
      "cell_type": "code",
      "execution_count": null,
      "metadata": {
        "id": "N8BOz1Osr2wu"
      },
      "outputs": [],
      "source": [
        "import pandas as pd\n",
        "data=pd.Series([0.593, 0.142, 0.329, 0.691, 0.231, 0.793, 0.519, 0.392, 0.418])"
      ]
    },
    {
      "cell_type": "code",
      "source": [
        "stats.ttest_1samp(data,0.3)"
      ],
      "metadata": {
        "colab": {
          "base_uri": "https://localhost:8080/"
        },
        "id": "t82UfdighijE",
        "outputId": "c8d7b81b-58af-4964-94ed-009ca5e9e926"
      },
      "execution_count": null,
      "outputs": [
        {
          "output_type": "execute_result",
          "data": {
            "text/plain": [
              "TtestResult(statistic=2.2050588385131595, pvalue=0.05853032968489765, df=8)"
            ]
          },
          "metadata": {},
          "execution_count": 7
        }
      ]
    },
    {
      "cell_type": "code",
      "execution_count": null,
      "metadata": {
        "colab": {
          "base_uri": "https://localhost:8080/"
        },
        "id": "hc7tfQMGr2wv",
        "outputId": "129c1fac-bd15-4b2e-ba05-eab5e236d2c4"
      },
      "outputs": [
        {
          "output_type": "execute_result",
          "data": {
            "text/plain": [
              "0.029265164842448826"
            ]
          },
          "metadata": {},
          "execution_count": 8
        }
      ],
      "source": [
        "#This gives two tail test p value so divide by 2 to get final p-value\n",
        "from scipy import stats\n",
        "p=stats.ttest_1samp(data,0.3)[1]\n",
        "p_value= p/2\n",
        "p_value"
      ]
    },
    {
      "cell_type": "code",
      "source": [],
      "metadata": {
        "id": "s1XRtnqC-Vu0",
        "colab": {
          "base_uri": "https://localhost:8080/"
        },
        "outputId": "261e93c2-e08f-46c6-d71c-3ff20064a747"
      },
      "execution_count": null,
      "outputs": [
        {
          "output_type": "execute_result",
          "data": {
            "text/plain": [
              "2.306004135204166"
            ]
          },
          "metadata": {},
          "execution_count": 9
        }
      ]
    },
    {
      "cell_type": "code",
      "source": [
        "data2=pd.Series([70,84,96,63,50,89,92,65,70,80])\n",
        "stats.ttest_1samp(data2,80)"
      ],
      "metadata": {
        "colab": {
          "base_uri": "https://localhost:8080/"
        },
        "id": "9UfoCLkCbBoZ",
        "outputId": "a674055e-4503-4121-d1af-335a91e4c6fd"
      },
      "execution_count": null,
      "outputs": [
        {
          "output_type": "execute_result",
          "data": {
            "text/plain": [
              "TtestResult(statistic=-0.8824292337730089, pvalue=0.4004992968146376, df=9)"
            ]
          },
          "metadata": {},
          "execution_count": 10
        }
      ]
    },
    {
      "cell_type": "code",
      "source": [
        "p=stats.ttest_1samp(data2,80)[1]\n",
        "p/2"
      ],
      "metadata": {
        "colab": {
          "base_uri": "https://localhost:8080/"
        },
        "id": "muOjllxYbkmM",
        "outputId": "ad4fc97a-14a4-4d9c-c8cf-c927fa267e8d"
      },
      "execution_count": null,
      "outputs": [
        {
          "output_type": "execute_result",
          "data": {
            "text/plain": [
              "0.2002496484073188"
            ]
          },
          "metadata": {},
          "execution_count": 11
        }
      ]
    },
    {
      "cell_type": "markdown",
      "source": [],
      "metadata": {
        "id": "9_pGQPOda_5m"
      }
    },
    {
      "cell_type": "markdown",
      "metadata": {
        "id": "HMx2yNuTr2ww"
      },
      "source": [
        "# Two Tail test"
      ]
    },
    {
      "cell_type": "code",
      "execution_count": null,
      "metadata": {
        "id": "WypiVFL1r2ww"
      },
      "outputs": [],
      "source": [
        "Control=pd.Series([91, 87, 99, 77, 88, 91])\n",
        "Treat =pd.Series([101, 110, 103, 93, 99, 104])\n"
      ]
    },
    {
      "cell_type": "code",
      "execution_count": null,
      "metadata": {
        "colab": {
          "base_uri": "https://localhost:8080/"
        },
        "id": "q3IRRbRTr2wx",
        "outputId": "e7c09f3e-8f61-443a-83e8-4093e9a16b4a"
      },
      "outputs": [
        {
          "output_type": "execute_result",
          "data": {
            "text/plain": [
              "TtestResult(statistic=-3.4456126735364876, pvalue=0.006272124350809803, df=10.0)"
            ]
          },
          "metadata": {},
          "execution_count": 13
        }
      ],
      "source": [
        "stats.ttest_ind(Control,Treat)"
      ]
    },
    {
      "cell_type": "markdown",
      "metadata": {
        "id": "Nb2UH2DXr2wz"
      },
      "source": [
        "# 2 Proportion Test"
      ]
    },
    {
      "cell_type": "code",
      "execution_count": null,
      "metadata": {
        "id": "KeZJCCY4r2w1"
      },
      "outputs": [],
      "source": [
        "import numpy as np"
      ]
    },
    {
      "cell_type": "code",
      "execution_count": null,
      "metadata": {
        "id": "kdxKdbJXr2w2"
      },
      "outputs": [],
      "source": [
        "#Data:\n",
        "\n",
        "n1 = 247\n",
        "p1 = .37\n",
        "\n",
        "n2 = 308\n",
        "p2 = .39"
      ]
    },
    {
      "cell_type": "code",
      "execution_count": null,
      "metadata": {
        "id": "007cGmjNr2w2"
      },
      "outputs": [],
      "source": [
        "population1 = np.random.binomial(1, p1, n1)\n",
        "population2 = np.random.binomial(1, p2, n2)"
      ]
    },
    {
      "cell_type": "code",
      "execution_count": null,
      "metadata": {
        "id": "Nu0ygqcIr2w3"
      },
      "outputs": [],
      "source": [
        "population1"
      ]
    },
    {
      "cell_type": "code",
      "execution_count": null,
      "metadata": {
        "id": "94CoUHGSr2w3"
      },
      "outputs": [],
      "source": [
        "population2"
      ]
    },
    {
      "cell_type": "code",
      "execution_count": null,
      "metadata": {
        "id": "PTjtvRf8r2w4"
      },
      "outputs": [],
      "source": [
        "from scipy import stats\n",
        "stats.ttest_ind(population1, population2)"
      ]
    },
    {
      "cell_type": "code",
      "execution_count": null,
      "metadata": {
        "id": "ZSPf7JZxr2w4"
      },
      "outputs": [],
      "source": []
    }
  ],
  "metadata": {
    "kernelspec": {
      "display_name": "Python 3",
      "language": "python",
      "name": "python3"
    },
    "language_info": {
      "codemirror_mode": {
        "name": "ipython",
        "version": 3
      },
      "file_extension": ".py",
      "mimetype": "text/x-python",
      "name": "python",
      "nbconvert_exporter": "python",
      "pygments_lexer": "ipython3",
      "version": "3.7.4"
    },
    "colab": {
      "provenance": [],
      "toc_visible": true,
      "include_colab_link": true
    }
  },
  "nbformat": 4,
  "nbformat_minor": 0
}